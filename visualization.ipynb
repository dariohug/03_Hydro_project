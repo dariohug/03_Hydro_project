{
 "cells": [
  {
   "cell_type": "code",
   "execution_count": 1,
   "metadata": {},
   "outputs": [],
   "source": [
    "import pandas as pd\n",
    "import matplotlib.pyplot as plt\n"
   ]
  },
  {
   "cell_type": "markdown",
   "metadata": {},
   "source": [
    "# Hydro Task Dario Hug #\n",
    "\n",
    "@Files   :   visualization.ipynb / task01.cpp / task02.cpp\n",
    "\n",
    "@Time    :   2024/11/27 13:08:54\n",
    "\n",
    "@Author  :   Dario B. Hug\n",
    "\n",
    "@Contact :   dario.hug@acentauri.ch\n",
    "\n",
    "Documentation: \n",
    "\n",
    "In this Exercise I used c++ and python. The heavy lifting is done in c++ to make the computation as afficient as possible, while python is very handy to plot the computated data.\n"
   ]
  },
  {
   "cell_type": "markdown",
   "metadata": {},
   "source": [
    "## General Code ##"
   ]
  },
  {
   "cell_type": "code",
   "execution_count": null,
   "metadata": {},
   "outputs": [],
   "source": [
    "def read_csv_data(path):\n",
    "    data = pd.read_csv(path)\n",
    "    x = data['x'].values\n",
    "    times = data.columns[1:]\n",
    "    return x, times\n"
   ]
  },
  {
   "cell_type": "markdown",
   "metadata": {},
   "source": [
    "## Task 01 - Advection with first order differencing ##\n",
    "\n",
    "First order advection equation: $ \\frac{\\delta f}{\\delta t} + v_0 \\frac{\\delta f}{\\delta x} = 0$ \n",
    "\n",
    "- Define the domain $ 0 < x < 1 $, with periodic conditions (and ghost cells if necessary). Use $ N = 100 $ points to begin with.\n",
    "- The advection velocity is v0 = 1. This defines the timestep by the CFL condition as for example $ \\Delta t = \\frac{\\Delta x}{2 v_0} $. Because $ v0 > 0 $, be careful to define the gradient ∂f/∂x in a upstream way using finite difference.\n",
    "- Perform the time integration with a first order explicit scheme for the spacial derivative. Start with a first order Euler time integration, but feel free to test also higher order schemes (RK2, RK4). Test different initial profiles of f. For example a step function $ f(x,t = 0) = 1 $ if $ x < 0.4 $ for 2 if $ 0.4 < x < 0.6 $, 1 if $ x > 0.6 $, or a gaussian $ f(x,t = 0) = 1 + exp( - \\frac{(x-0.5)^2}{\\sigma ^2}) $ with $ \\sigma = 0.1 $ for instance.\n",
    "- Explore the evolution over different timescales (number of times it crosses the box), under different resolutions (N = 100, 200, 500,...). Discuss the diffusion, stability and accuracy of the scheme with varying the timestep and the space resolution."
   ]
  },
  {
   "cell_type": "code",
   "execution_count": null,
   "metadata": {},
   "outputs": [],
   "source": [
    "path_task01_a = \"advection_results.csv\"\n",
    "x, times = read_csv_data(path_task01_a)"
   ]
  },
  {
   "cell_type": "markdown",
   "metadata": {},
   "source": [
    "## Task 01 - Advection with second order finite Volume (MUSCL) ##"
   ]
  },
  {
   "cell_type": "code",
   "execution_count": null,
   "metadata": {},
   "outputs": [],
   "source": []
  }
 ],
 "metadata": {
  "kernelspec": {
   "display_name": "Python 3",
   "language": "python",
   "name": "python3"
  },
  "language_info": {
   "codemirror_mode": {
    "name": "ipython",
    "version": 3
   },
   "file_extension": ".py",
   "mimetype": "text/x-python",
   "name": "python",
   "nbconvert_exporter": "python",
   "pygments_lexer": "ipython3",
   "version": "3.10.12"
  }
 },
 "nbformat": 4,
 "nbformat_minor": 2
}
